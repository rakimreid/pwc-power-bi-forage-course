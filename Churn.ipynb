{
 "cells": [
  {
   "cell_type": "code",
   "execution_count": 1,
   "metadata": {},
   "outputs": [],
   "source": [
    "# Import packages\n",
    "\n",
    "import pandas as pd\n",
    "import numpy as np "
   ]
  },
  {
   "cell_type": "code",
   "execution_count": 2,
   "metadata": {},
   "outputs": [],
   "source": [
    "df = pd.read_excel(\"C:\\Portfolio\\Data Engineer Track\\Airline Datasets and Courses\\PWC_The Forage Power BI Course\\Task 2_Customer Retention\\Churn-Dataset.xlsx\")"
   ]
  },
  {
   "cell_type": "code",
   "execution_count": 3,
   "metadata": {},
   "outputs": [
    {
     "name": "stdout",
     "output_type": "stream",
     "text": [
      "<class 'pandas.core.frame.DataFrame'>\n",
      "RangeIndex: 7043 entries, 0 to 7042\n",
      "Data columns (total 23 columns):\n",
      " #   Column            Non-Null Count  Dtype  \n",
      "---  ------            --------------  -----  \n",
      " 0   customerID        7043 non-null   object \n",
      " 1   gender            7043 non-null   object \n",
      " 2   SeniorCitizen     7043 non-null   int64  \n",
      " 3   Partner           7043 non-null   object \n",
      " 4   Dependents        7043 non-null   object \n",
      " 5   tenure            7043 non-null   int64  \n",
      " 6   PhoneService      7043 non-null   object \n",
      " 7   MultipleLines     7043 non-null   object \n",
      " 8   InternetService   7043 non-null   object \n",
      " 9   OnlineSecurity    7043 non-null   object \n",
      " 10  OnlineBackup      7043 non-null   object \n",
      " 11  DeviceProtection  7043 non-null   object \n",
      " 12  TechSupport       7043 non-null   object \n",
      " 13  StreamingTV       7043 non-null   object \n",
      " 14  StreamingMovies   7043 non-null   object \n",
      " 15  Contract          7043 non-null   object \n",
      " 16  PaperlessBilling  7043 non-null   object \n",
      " 17  PaymentMethod     7043 non-null   object \n",
      " 18  MonthlyCharges    7043 non-null   float64\n",
      " 19  TotalCharges      7043 non-null   float64\n",
      " 20  numAdminTickets   7043 non-null   int64  \n",
      " 21  numTechTickets    7043 non-null   int64  \n",
      " 22  Churn             7043 non-null   object \n",
      "dtypes: float64(2), int64(4), object(17)\n",
      "memory usage: 1.2+ MB\n"
     ]
    }
   ],
   "source": [
    "df.info()"
   ]
  },
  {
   "cell_type": "code",
   "execution_count": 4,
   "metadata": {},
   "outputs": [
    {
     "data": {
      "text/plain": [
       "(7043, 23)"
      ]
     },
     "execution_count": 4,
     "metadata": {},
     "output_type": "execute_result"
    }
   ],
   "source": [
    "df.shape"
   ]
  },
  {
   "cell_type": "code",
   "execution_count": 5,
   "metadata": {},
   "outputs": [],
   "source": [
    "df = df.drop([\"customerID\",\"gender\", \"Partner\",\t\"Dependents\",\"PhoneService\",\"MultipleLines\",\"InternetService\",\"OnlineSecurity\",\"OnlineBackup\",\"DeviceProtection\",\"TechSupport\",\"StreamingTV\",\"StreamingMovies\",\"Contract\",\"PaperlessBilling\",\"PaymentMethod\"], axis = 1)\n",
    "\n"
   ]
  },
  {
   "cell_type": "code",
   "execution_count": 6,
   "metadata": {},
   "outputs": [
    {
     "name": "stdout",
     "output_type": "stream",
     "text": [
      "      SeniorCitizen  tenure  MonthlyCharges  TotalCharges  numAdminTickets  \\\n",
      "0                 0       1           29.85         29.85                0   \n",
      "1                 0      34           56.95       1889.50                0   \n",
      "2                 0       2           53.85        108.15                0   \n",
      "3                 0      45           42.30       1840.75                0   \n",
      "4                 0       2           70.70        151.65                0   \n",
      "...             ...     ...             ...           ...              ...   \n",
      "7038              0      24           84.80       1990.50                0   \n",
      "7039              0      72          103.20       7362.90                0   \n",
      "7040              0      11           29.60        346.45                0   \n",
      "7041              1       4           74.40        306.60                0   \n",
      "7042              0      66          105.65       6844.50                2   \n",
      "\n",
      "      numTechTickets  Churn_No  Churn_Yes  \n",
      "0                  0      True      False  \n",
      "1                  0      True      False  \n",
      "2                  0     False       True  \n",
      "3                  3      True      False  \n",
      "4                  0     False       True  \n",
      "...              ...       ...        ...  \n",
      "7038               0      True      False  \n",
      "7039               5      True      False  \n",
      "7040               0      True      False  \n",
      "7041               0     False       True  \n",
      "7042               0      True      False  \n",
      "\n",
      "[7043 rows x 8 columns]\n"
     ]
    }
   ],
   "source": [
    "one_hot_encoded_df = pd.get_dummies(df, columns = [\"Churn\"])\n",
    "print(one_hot_encoded_df)"
   ]
  },
  {
   "cell_type": "code",
   "execution_count": 7,
   "metadata": {},
   "outputs": [],
   "source": [
    "one_hot_encoded_df = one_hot_encoded_df.drop([\"Churn_Yes\"], axis = 1)"
   ]
  },
  {
   "cell_type": "code",
   "execution_count": 8,
   "metadata": {},
   "outputs": [
    {
     "name": "stdout",
     "output_type": "stream",
     "text": [
      "<class 'pandas.core.frame.DataFrame'>\n",
      "RangeIndex: 7043 entries, 0 to 7042\n",
      "Data columns (total 7 columns):\n",
      " #   Column           Non-Null Count  Dtype  \n",
      "---  ------           --------------  -----  \n",
      " 0   SeniorCitizen    7043 non-null   int64  \n",
      " 1   tenure           7043 non-null   int64  \n",
      " 2   MonthlyCharges   7043 non-null   float64\n",
      " 3   TotalCharges     7043 non-null   float64\n",
      " 4   numAdminTickets  7043 non-null   int64  \n",
      " 5   numTechTickets   7043 non-null   int64  \n",
      " 6   Churn_No         7043 non-null   bool   \n",
      "dtypes: bool(1), float64(2), int64(4)\n",
      "memory usage: 337.1 KB\n"
     ]
    }
   ],
   "source": [
    "one_hot_encoded_df.info()"
   ]
  },
  {
   "cell_type": "code",
   "execution_count": 9,
   "metadata": {},
   "outputs": [],
   "source": [
    "one_hot_encoded_df = one_hot_encoded_df.apply(pd.to_numeric)"
   ]
  },
  {
   "cell_type": "code",
   "execution_count": 10,
   "metadata": {},
   "outputs": [
    {
     "data": {
      "text/html": [
       "<div>\n",
       "<style scoped>\n",
       "    .dataframe tbody tr th:only-of-type {\n",
       "        vertical-align: middle;\n",
       "    }\n",
       "\n",
       "    .dataframe tbody tr th {\n",
       "        vertical-align: top;\n",
       "    }\n",
       "\n",
       "    .dataframe thead th {\n",
       "        text-align: right;\n",
       "    }\n",
       "</style>\n",
       "<table border=\"1\" class=\"dataframe\">\n",
       "  <thead>\n",
       "    <tr style=\"text-align: right;\">\n",
       "      <th></th>\n",
       "      <th>SeniorCitizen</th>\n",
       "      <th>tenure</th>\n",
       "      <th>MonthlyCharges</th>\n",
       "      <th>TotalCharges</th>\n",
       "      <th>numAdminTickets</th>\n",
       "      <th>numTechTickets</th>\n",
       "      <th>Churn_No</th>\n",
       "    </tr>\n",
       "  </thead>\n",
       "  <tbody>\n",
       "    <tr>\n",
       "      <th>SeniorCitizen</th>\n",
       "      <td>1.000000</td>\n",
       "      <td>0.016567</td>\n",
       "      <td>0.220173</td>\n",
       "      <td>0.102652</td>\n",
       "      <td>-0.000881</td>\n",
       "      <td>0.093330</td>\n",
       "      <td>-0.150889</td>\n",
       "    </tr>\n",
       "    <tr>\n",
       "      <th>tenure</th>\n",
       "      <td>0.016567</td>\n",
       "      <td>1.000000</td>\n",
       "      <td>0.247900</td>\n",
       "      <td>0.825464</td>\n",
       "      <td>-0.000440</td>\n",
       "      <td>0.215158</td>\n",
       "      <td>0.352229</td>\n",
       "    </tr>\n",
       "    <tr>\n",
       "      <th>MonthlyCharges</th>\n",
       "      <td>0.220173</td>\n",
       "      <td>0.247900</td>\n",
       "      <td>1.000000</td>\n",
       "      <td>0.650864</td>\n",
       "      <td>0.007386</td>\n",
       "      <td>0.245081</td>\n",
       "      <td>-0.193356</td>\n",
       "    </tr>\n",
       "    <tr>\n",
       "      <th>TotalCharges</th>\n",
       "      <td>0.102652</td>\n",
       "      <td>0.825464</td>\n",
       "      <td>0.650864</td>\n",
       "      <td>1.000000</td>\n",
       "      <td>0.006953</td>\n",
       "      <td>0.283985</td>\n",
       "      <td>0.199037</td>\n",
       "    </tr>\n",
       "    <tr>\n",
       "      <th>numAdminTickets</th>\n",
       "      <td>-0.000881</td>\n",
       "      <td>-0.000440</td>\n",
       "      <td>0.007386</td>\n",
       "      <td>0.006953</td>\n",
       "      <td>1.000000</td>\n",
       "      <td>-0.008004</td>\n",
       "      <td>0.019877</td>\n",
       "    </tr>\n",
       "    <tr>\n",
       "      <th>numTechTickets</th>\n",
       "      <td>0.093330</td>\n",
       "      <td>0.215158</td>\n",
       "      <td>0.245081</td>\n",
       "      <td>0.283985</td>\n",
       "      <td>-0.008004</td>\n",
       "      <td>1.000000</td>\n",
       "      <td>-0.357283</td>\n",
       "    </tr>\n",
       "    <tr>\n",
       "      <th>Churn_No</th>\n",
       "      <td>-0.150889</td>\n",
       "      <td>0.352229</td>\n",
       "      <td>-0.193356</td>\n",
       "      <td>0.199037</td>\n",
       "      <td>0.019877</td>\n",
       "      <td>-0.357283</td>\n",
       "      <td>1.000000</td>\n",
       "    </tr>\n",
       "  </tbody>\n",
       "</table>\n",
       "</div>"
      ],
      "text/plain": [
       "                 SeniorCitizen    tenure  MonthlyCharges  TotalCharges  \\\n",
       "SeniorCitizen         1.000000  0.016567        0.220173      0.102652   \n",
       "tenure                0.016567  1.000000        0.247900      0.825464   \n",
       "MonthlyCharges        0.220173  0.247900        1.000000      0.650864   \n",
       "TotalCharges          0.102652  0.825464        0.650864      1.000000   \n",
       "numAdminTickets      -0.000881 -0.000440        0.007386      0.006953   \n",
       "numTechTickets        0.093330  0.215158        0.245081      0.283985   \n",
       "Churn_No             -0.150889  0.352229       -0.193356      0.199037   \n",
       "\n",
       "                 numAdminTickets  numTechTickets  Churn_No  \n",
       "SeniorCitizen          -0.000881        0.093330 -0.150889  \n",
       "tenure                 -0.000440        0.215158  0.352229  \n",
       "MonthlyCharges          0.007386        0.245081 -0.193356  \n",
       "TotalCharges            0.006953        0.283985  0.199037  \n",
       "numAdminTickets         1.000000       -0.008004  0.019877  \n",
       "numTechTickets         -0.008004        1.000000 -0.357283  \n",
       "Churn_No                0.019877       -0.357283  1.000000  "
      ]
     },
     "execution_count": 10,
     "metadata": {},
     "output_type": "execute_result"
    }
   ],
   "source": [
    "one_hot_encoded_df.corr()"
   ]
  },
  {
   "cell_type": "code",
   "execution_count": 11,
   "metadata": {},
   "outputs": [],
   "source": [
    "X = one_hot_encoded_df.drop([\"Churn_No\"], axis = 1)\n",
    "y = one_hot_encoded_df[\"Churn_No\"]"
   ]
  },
  {
   "cell_type": "code",
   "execution_count": 12,
   "metadata": {},
   "outputs": [],
   "source": [
    "# Import data science and machine learning packages\n",
    "\n",
    "from sklearn.model_selection import train_test_split\n",
    "from sklearn import preprocessing\n",
    "# import module\n",
    "from sklearn.preprocessing import MinMaxScaler\n",
    "\n",
    "X_train, X_test, y_train, y_test = train_test_split(X,y, test_size = 0.17, random_state = 123)\n",
    "\n",
    "# Scale the features using minmaxscaler\n",
    "scaler = MinMaxScaler()\n",
    "X_train = scaler.fit_transform(X_train)\n",
    "X_test = scaler.transform(X_test)"
   ]
  },
  {
   "cell_type": "code",
   "execution_count": 13,
   "metadata": {},
   "outputs": [
    {
     "name": "stdout",
     "output_type": "stream",
     "text": [
      "print accuracy of svm model: 0.8514190317195326\n"
     ]
    }
   ],
   "source": [
    "# Import Support Vector Classifier packages, fit data, and print model accuracy\n",
    "\n",
    "from sklearn.svm import SVC \n",
    "\n",
    "svm = SVC(random_state = 123)\n",
    "\n",
    "svm.fit(X_train, y_train)\n",
    "\n",
    "print(\"print accuracy of svm model:\", svm.score(X_test, y_test))"
   ]
  },
  {
   "cell_type": "code",
   "execution_count": 14,
   "metadata": {},
   "outputs": [
    {
     "name": "stdout",
     "output_type": "stream",
     "text": [
      "0.832220367278798\n"
     ]
    },
    {
     "name": "stderr",
     "output_type": "stream",
     "text": [
      "c:\\Users\\rakim\\anaconda3\\lib\\site-packages\\sklearn\\neighbors\\_classification.py:228: FutureWarning: Unlike other reduction functions (e.g. `skew`, `kurtosis`), the default behavior of `mode` typically preserves the axis it acts along. In SciPy 1.11.0, this behavior will change: the default value of `keepdims` will become False, the `axis` over which the statistic is taken will be eliminated, and the value None will no longer be accepted. Set `keepdims` to True or False to avoid this warning.\n",
      "  mode, _ = stats.mode(_y[neigh_ind, k], axis=1)\n"
     ]
    }
   ],
   "source": [
    "# Import necessary modules for K-Nearest Neighbors\n",
    "\n",
    "from sklearn.neighbors import KNeighborsClassifier\n",
    "\n",
    "knn = KNeighborsClassifier(n_neighbors=3)\n",
    "  \n",
    "knn.fit(X_train, y_train)\n",
    "  \n",
    "# Calculate the accuracy of the model\n",
    "print(knn.score(X_test, y_test))"
   ]
  },
  {
   "cell_type": "markdown",
   "metadata": {},
   "source": [
    "The most accuracy model is the support vector machine classifier (85%). "
   ]
  }
 ],
 "metadata": {
  "kernelspec": {
   "display_name": "base",
   "language": "python",
   "name": "python3"
  },
  "language_info": {
   "codemirror_mode": {
    "name": "ipython",
    "version": 3
   },
   "file_extension": ".py",
   "mimetype": "text/x-python",
   "name": "python",
   "nbconvert_exporter": "python",
   "pygments_lexer": "ipython3",
   "version": "3.9.13"
  },
  "orig_nbformat": 4
 },
 "nbformat": 4,
 "nbformat_minor": 2
}
