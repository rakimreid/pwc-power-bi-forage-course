{
 "cells": [
  {
   "cell_type": "code",
   "execution_count": 91,
   "metadata": {},
   "outputs": [],
   "source": [
    "# Import packages \n",
    "\n",
    "import pandas as pd \n",
    "import numpy as np\n"
   ]
  },
  {
   "cell_type": "code",
   "execution_count": 92,
   "metadata": {},
   "outputs": [],
   "source": [
    "# Establish dataframe\n",
    "\n",
    "df = pd.read_excel(\"C:/Portfolio/Data Engineer Track/Airline Datasets and Courses/PWC_The Forage Power BI Course/Task 3_Diversity and Inclusion/ml.xlsx\")\n",
    "\n",
    "df = df.drop([\"Gender\", \"Job Level group PRA status\"], axis = 1)"
   ]
  },
  {
   "cell_type": "code",
   "execution_count": 93,
   "metadata": {},
   "outputs": [
    {
     "name": "stdout",
     "output_type": "stream",
     "text": [
      "<class 'pandas.core.frame.DataFrame'>\n",
      "RangeIndex: 500 entries, 0 to 499\n",
      "Data columns (total 5 columns):\n",
      " #   Column                 Non-Null Count  Dtype\n",
      "---  ------                 --------------  -----\n",
      " 0   Gender_code            500 non-null    int64\n",
      " 1   PRA_status             500 non-null    int64\n",
      " 2   Time in Job Level      500 non-null    int64\n",
      " 3   Age                    500 non-null    int64\n",
      " 4   Years since last hire  500 non-null    int64\n",
      "dtypes: int64(5)\n",
      "memory usage: 19.7 KB\n"
     ]
    }
   ],
   "source": [
    "# Structure of the dataframe\n",
    "\n",
    "df.info()"
   ]
  },
  {
   "cell_type": "code",
   "execution_count": 94,
   "metadata": {},
   "outputs": [
    {
     "data": {
      "text/plain": [
       "(500, 5)"
      ]
     },
     "execution_count": 94,
     "metadata": {},
     "output_type": "execute_result"
    }
   ],
   "source": [
    "# Dataframe shape \n",
    "df.shape"
   ]
  },
  {
   "cell_type": "code",
   "execution_count": 95,
   "metadata": {},
   "outputs": [
    {
     "data": {
      "text/html": [
       "<div>\n",
       "<style scoped>\n",
       "    .dataframe tbody tr th:only-of-type {\n",
       "        vertical-align: middle;\n",
       "    }\n",
       "\n",
       "    .dataframe tbody tr th {\n",
       "        vertical-align: top;\n",
       "    }\n",
       "\n",
       "    .dataframe thead th {\n",
       "        text-align: right;\n",
       "    }\n",
       "</style>\n",
       "<table border=\"1\" class=\"dataframe\">\n",
       "  <thead>\n",
       "    <tr style=\"text-align: right;\">\n",
       "      <th></th>\n",
       "      <th>Gender_code</th>\n",
       "      <th>PRA_status</th>\n",
       "      <th>Time in Job Level</th>\n",
       "      <th>Age</th>\n",
       "      <th>Years since last hire</th>\n",
       "    </tr>\n",
       "  </thead>\n",
       "  <tbody>\n",
       "    <tr>\n",
       "      <th>Gender_code</th>\n",
       "      <td>1.000000</td>\n",
       "      <td>-0.283844</td>\n",
       "      <td>0.069722</td>\n",
       "      <td>0.065080</td>\n",
       "      <td>0.146357</td>\n",
       "    </tr>\n",
       "    <tr>\n",
       "      <th>PRA_status</th>\n",
       "      <td>-0.283844</td>\n",
       "      <td>1.000000</td>\n",
       "      <td>-0.039349</td>\n",
       "      <td>-0.538715</td>\n",
       "      <td>-0.182456</td>\n",
       "    </tr>\n",
       "    <tr>\n",
       "      <th>Time in Job Level</th>\n",
       "      <td>0.069722</td>\n",
       "      <td>-0.039349</td>\n",
       "      <td>1.000000</td>\n",
       "      <td>0.137773</td>\n",
       "      <td>0.589886</td>\n",
       "    </tr>\n",
       "    <tr>\n",
       "      <th>Age</th>\n",
       "      <td>0.065080</td>\n",
       "      <td>-0.538715</td>\n",
       "      <td>0.137773</td>\n",
       "      <td>1.000000</td>\n",
       "      <td>0.384113</td>\n",
       "    </tr>\n",
       "    <tr>\n",
       "      <th>Years since last hire</th>\n",
       "      <td>0.146357</td>\n",
       "      <td>-0.182456</td>\n",
       "      <td>0.589886</td>\n",
       "      <td>0.384113</td>\n",
       "      <td>1.000000</td>\n",
       "    </tr>\n",
       "  </tbody>\n",
       "</table>\n",
       "</div>"
      ],
      "text/plain": [
       "                       Gender_code  PRA_status  Time in Job Level       Age  \\\n",
       "Gender_code               1.000000   -0.283844           0.069722  0.065080   \n",
       "PRA_status               -0.283844    1.000000          -0.039349 -0.538715   \n",
       "Time in Job Level         0.069722   -0.039349           1.000000  0.137773   \n",
       "Age                       0.065080   -0.538715           0.137773  1.000000   \n",
       "Years since last hire     0.146357   -0.182456           0.589886  0.384113   \n",
       "\n",
       "                       Years since last hire  \n",
       "Gender_code                         0.146357  \n",
       "PRA_status                         -0.182456  \n",
       "Time in Job Level                   0.589886  \n",
       "Age                                 0.384113  \n",
       "Years since last hire               1.000000  "
      ]
     },
     "execution_count": 95,
     "metadata": {},
     "output_type": "execute_result"
    }
   ],
   "source": [
    "# Feature correlations\n",
    "\n",
    "df.corr()"
   ]
  },
  {
   "cell_type": "code",
   "execution_count": 96,
   "metadata": {},
   "outputs": [],
   "source": [
    "# Establish X and y variables \n",
    "\n",
    "X = df.drop([\"Gender_code\", \"Years since last hire\",\"Time in Job Level\"], axis = 1)\n",
    "y = df[\"Gender_code\"]"
   ]
  },
  {
   "cell_type": "code",
   "execution_count": 97,
   "metadata": {},
   "outputs": [],
   "source": [
    "# Import data science and machine learning packages\n",
    "\n",
    "from sklearn.model_selection import train_test_split\n",
    "from sklearn import preprocessing\n",
    "# import module\n",
    "from sklearn.preprocessing import MinMaxScaler\n",
    "\n",
    "X_train, X_test, y_train, y_test = train_test_split(X,y, test_size = 0.34, random_state = 123)\n",
    "\n",
    "# Scale the features using minmaxscaler\n",
    "scaler = MinMaxScaler()\n",
    "X_train = scaler.fit_transform(X_train)\n",
    "X_test = scaler.transform(X_test)"
   ]
  },
  {
   "cell_type": "code",
   "execution_count": 98,
   "metadata": {},
   "outputs": [
    {
     "name": "stdout",
     "output_type": "stream",
     "text": [
      "print accuracy of svm model: 0.6\n"
     ]
    }
   ],
   "source": [
    "# Import Support Vector Classifier packages, fit data, and print model accuracy\n",
    "\n",
    "from sklearn.svm import SVC \n",
    "\n",
    "svm = SVC(random_state = 123)\n",
    "\n",
    "svm.fit(X_train, y_train)\n",
    "\n",
    "print(\"print accuracy of svm model:\", svm.score(X_test, y_test))"
   ]
  },
  {
   "cell_type": "code",
   "execution_count": 108,
   "metadata": {},
   "outputs": [
    {
     "name": "stdout",
     "output_type": "stream",
     "text": [
      "0.7\n"
     ]
    },
    {
     "name": "stderr",
     "output_type": "stream",
     "text": [
      "c:\\Users\\rakim\\anaconda3\\lib\\site-packages\\sklearn\\neighbors\\_classification.py:228: FutureWarning: Unlike other reduction functions (e.g. `skew`, `kurtosis`), the default behavior of `mode` typically preserves the axis it acts along. In SciPy 1.11.0, this behavior will change: the default value of `keepdims` will become False, the `axis` over which the statistic is taken will be eliminated, and the value None will no longer be accepted. Set `keepdims` to True or False to avoid this warning.\n",
      "  mode, _ = stats.mode(_y[neigh_ind, k], axis=1)\n"
     ]
    }
   ],
   "source": [
    "# Import necessary modules for K-Nearest Neighbors\n",
    "\n",
    "from sklearn.neighbors import KNeighborsClassifier\n",
    "\n",
    "knn = KNeighborsClassifier(n_neighbors=7)\n",
    "  \n",
    "knn.fit(X_train, y_train)\n",
    "  \n",
    "# Calculate the accuracy of the model\n",
    "print(knn.score(X_test, y_test))"
   ]
  },
  {
   "cell_type": "markdown",
   "metadata": {},
   "source": [
    "# Conclusion \n",
    "\n",
    "Interestingly, the KNN model produced 70% accuracy when the only features were gender and PRA_status. A complex model produced lower accuracy (< 70%). The Support Vector Classifier was a bit more accurate when created with more features (~ 65% accuracy).\n",
    "\n",
    "The biggest limitation to this project is the small dataset. There are only 500 rows. A larger dataset would likely produce higher accuracy. In addition, there is a slight class imbalance for gender. This dataset is 60% male and 40% female. Normally this small discrepancy would not impact the results. However, I suspect the results are impacted adversely due to the low number of rows (i.e. less information available to decipher patterns).\n",
    "\n",
    "Extant results suggest that there is potential to classify a gender based on whether men have benefitted from a position more than women. \n",
    " "
   ]
  }
 ],
 "metadata": {
  "kernelspec": {
   "display_name": "base",
   "language": "python",
   "name": "python3"
  },
  "language_info": {
   "codemirror_mode": {
    "name": "ipython",
    "version": 3
   },
   "file_extension": ".py",
   "mimetype": "text/x-python",
   "name": "python",
   "nbconvert_exporter": "python",
   "pygments_lexer": "ipython3",
   "version": "3.9.13"
  },
  "orig_nbformat": 4
 },
 "nbformat": 4,
 "nbformat_minor": 2
}
